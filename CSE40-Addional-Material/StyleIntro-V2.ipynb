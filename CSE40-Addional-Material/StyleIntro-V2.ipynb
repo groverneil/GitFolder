{
 "cells": [
  {
   "cell_type": "markdown",
   "metadata": {
    "id": "yTIf8wD5Gs10"
   },
   "source": [
    "<h1 style=\"color: lightblue; align: center\">CSE40 Style Demo</h1>"
   ]
  },
  {
   "cell_type": "markdown",
   "metadata": {},
   "source": [
    "<p>This file goes over some basic examples of bad and good syntax which will help you understand how to deal with PEP8 style issues.<p>\n",
    "\n",
    "<p>Each Error type has it's own section and has two examples:<p>\n",
    "<span style=\"color: #CC0000\">Bad Example</span>\n",
    "<span>contains code that will trigger the style checker</span>\n",
    "<br>\n",
    "<span style=\"color: #00CC00\">Correct Example</span>\n",
    "<span>contains code that will pass the style checker</span>"
   ]
  },
  {
   "cell_type": "code",
   "execution_count": 1,
   "metadata": {
    "id": "FIUiR5ToXnE_"
   },
   "outputs": [],
   "source": [
    "import pandas"
   ]
  },
  {
   "cell_type": "markdown",
   "metadata": {
    "id": "j5qiDfGeUS3y"
   },
   "source": [
    "<h2 style = \"color: darkorange\">\n",
    "Line Length\n",
    "</h2>\n",
    "\n",
    "<p>\n",
    "PEP8 standards dictate that line length shoould not be more than 79 characters long. For the HO assignments, we deduct points if the line is more than 100 characters long\n",
    "</p>"
   ]
  },
  {
   "cell_type": "markdown",
   "metadata": {
    "id": "RSnTJt1BXR28"
   },
   "source": [
    "<h3>\n",
    "Base Python Example\n",
    "</h3>"
   ]
  },
  {
   "cell_type": "code",
   "execution_count": 2,
   "metadata": {
    "colab": {
     "base_uri": "https://localhost:8080/"
    },
    "id": "uDjvQy1EWBqB",
    "outputId": "6db9c461-cb04-4bea-97f9-1e30fdff7228"
   },
   "outputs": [
    {
     "name": "stdout",
     "output_type": "stream",
     "text": [
      "15138\n"
     ]
    }
   ],
   "source": [
    "# Bad Example\n",
    "\n",
    "a = sum([1, 2, 3, 4, 5, 6, 7, 8, 9, 9, 10, 11, 12])**2 + sum([1, 2, 3, 4, 5, 6, 7, 8, 9, 9, 10, 11, 12])**2\n",
    "\n",
    "print(a)"
   ]
  },
  {
   "cell_type": "code",
   "execution_count": 3,
   "metadata": {
    "id": "OkKSaJP1W77X"
   },
   "outputs": [
    {
     "name": "stdout",
     "output_type": "stream",
     "text": [
      "15138\n"
     ]
    }
   ],
   "source": [
    "# Correct Example\n",
    "\n",
    "a = sum([1, 2, 3, 4, 5, 6, 7, 8, 9, 9, 10, 11, 12])**2\n",
    "a = 2 * a\n",
    "\n",
    "print(a)"
   ]
  },
  {
   "cell_type": "markdown",
   "metadata": {
    "id": "pjS7tBqSXbp0"
   },
   "source": [
    "<h3>DataFrame Example</h3>"
   ]
  },
  {
   "cell_type": "code",
   "execution_count": 4,
   "metadata": {
    "id": "dG27MCBGXta5"
   },
   "outputs": [
    {
     "name": "stdout",
     "output_type": "stream",
     "text": [
      "       A      B      C      D      E\n",
      "0   True   True   True   True  False\n",
      "1   True   True  False   True   True\n",
      "2   True   True   True   True   True\n",
      "3  False  False  False  False  False\n"
     ]
    }
   ],
   "source": [
    "frame = pandas.DataFrame({\n",
    "    \"A\": [True, True, True, False],\n",
    "    \"B\": [True, True, True, False],\n",
    "    \"C\": [True, False, True, False],\n",
    "    \"D\": [True, True, True, False],\n",
    "    \"E\": [False, True, True, False],\n",
    "})\n",
    "\n",
    "print(frame)"
   ]
  },
  {
   "cell_type": "code",
   "execution_count": 5,
   "metadata": {
    "colab": {
     "base_uri": "https://localhost:8080/"
    },
    "id": "GTiy2eygYJDB",
    "outputId": "ee46b035-bef5-4f5f-c8b2-4d7397afa2b6"
   },
   "outputs": [
    {
     "data": {
      "text/plain": [
       "1"
      ]
     },
     "execution_count": 5,
     "metadata": {},
     "output_type": "execute_result"
    }
   ],
   "source": [
    "# Bad Example\n",
    "\n",
    "len(frame[(frame[\"A\"]) & (frame[\"B\"]) & (frame[\"C\"]) & (frame[\"D\"]) & (frame[\"E\"])])"
   ]
  },
  {
   "cell_type": "markdown",
   "metadata": {
    "id": "j3wr2nWyZSvh"
   },
   "source": [
    "Solution: Make temp variables in your calculation."
   ]
  },
  {
   "cell_type": "code",
   "execution_count": 6,
   "metadata": {
    "colab": {
     "base_uri": "https://localhost:8080/"
    },
    "id": "Yl3xe-u8YpvO",
    "outputId": "8d137754-3f04-4973-a89f-bcbf51ae00fe"
   },
   "outputs": [
    {
     "data": {
      "text/plain": [
       "1"
      ]
     },
     "execution_count": 6,
     "metadata": {},
     "output_type": "execute_result"
    }
   ],
   "source": [
    "# Correct Example\n",
    "\n",
    "subframe = frame[(frame[\"A\"]) & (frame[\"B\"])]\n",
    "subframe = subframe[(subframe[\"C\"]) & (subframe[\"D\"]) & (subframe[\"E\"])]\n",
    "len(subframe)"
   ]
  },
  {
   "cell_type": "markdown",
   "metadata": {
    "id": "GO103kx6S-JO"
   },
   "source": [
    "<h2 style = \"color: darkorange\">\n",
    "Incorrect Spacing Between Operators\n",
    "</h2>\n",
    "\n",
    "<p>PEP 8 requires spacing between operators. Look at the following examples of how to declare variables in a way the complies with standards</p>"
   ]
  },
  {
   "cell_type": "markdown",
   "metadata": {},
   "source": [
    "<h3>\n",
    "Variable Declaration\n",
    "</h3>"
   ]
  },
  {
   "cell_type": "code",
   "execution_count": 7,
   "metadata": {
    "colab": {
     "base_uri": "https://localhost:8080/"
    },
    "id": "yB7z_uIXG3_q",
    "outputId": "37da567f-68b3-4a2f-e153-b265a1d719a3"
   },
   "outputs": [],
   "source": [
    "# Bad Implimentation\n",
    "\n",
    "a=1"
   ]
  },
  {
   "cell_type": "code",
   "execution_count": 8,
   "metadata": {
    "id": "cm7XZCLWHZqU"
   },
   "outputs": [],
   "source": [
    "# Correct Implimentation\n",
    "\n",
    "a = 1"
   ]
  },
  {
   "cell_type": "markdown",
   "metadata": {},
   "source": [
    "<h3>\n",
    "Arithmetic Example\n",
    "</h3>"
   ]
  },
  {
   "cell_type": "code",
   "execution_count": 9,
   "metadata": {
    "colab": {
     "base_uri": "https://localhost:8080/"
    },
    "id": "tbYi_iboRq5l",
    "outputId": "35065a1f-4ba1-42ec-e9ed-29d6dbbe8f58"
   },
   "outputs": [
    {
     "name": "stdout",
     "output_type": "stream",
     "text": [
      "17\n"
     ]
    }
   ],
   "source": [
    "# Bad Implimentation\n",
    "\n",
    "x =1+2*8\n",
    "\n",
    "print(x)"
   ]
  },
  {
   "cell_type": "code",
   "execution_count": 10,
   "metadata": {
    "id": "Q5iOgy4dZeIi"
   },
   "outputs": [
    {
     "name": "stdout",
     "output_type": "stream",
     "text": [
      "17\n"
     ]
    }
   ],
   "source": [
    "# Correct Implimentation\n",
    "\n",
    "x = 1 + 2 * 8\n",
    "\n",
    "print(x)"
   ]
  },
  {
   "cell_type": "markdown",
   "metadata": {},
   "source": [
    "<h3>\n",
    "List Definition\n",
    "</h3>"
   ]
  },
  {
   "cell_type": "code",
   "execution_count": 11,
   "metadata": {},
   "outputs": [],
   "source": [
    "# Bad Example\n",
    "\n",
    "x = [1,2,3]"
   ]
  },
  {
   "cell_type": "code",
   "execution_count": 12,
   "metadata": {},
   "outputs": [],
   "source": [
    "# Correct Example\n",
    "\n",
    "x = [1, 2, 3]"
   ]
  },
  {
   "cell_type": "markdown",
   "metadata": {
    "id": "8_9a4zsJZrv_"
   },
   "source": [
    "<h2 style = \"color: darkorange\">Using <code>type()</code> inside Conditionals</h2>\n",
    "\n",
    "<p>This is a redundant implimentation that can be easily replaced with the use of the <code>isinstance()</code> function</p>"
   ]
  },
  {
   "cell_type": "code",
   "execution_count": 13,
   "metadata": {
    "colab": {
     "base_uri": "https://localhost:8080/"
    },
    "id": "zdw1eEpzaMZr",
    "outputId": "74a7de29-cc90-4015-abb2-2bd5f8cb42ba"
   },
   "outputs": [],
   "source": [
    "# Bad Implimentation\n",
    "\n",
    "if (type(x) == int):\n",
    "\n",
    "    print(\"This is indeed an Integer\")"
   ]
  },
  {
   "cell_type": "code",
   "execution_count": 14,
   "metadata": {
    "id": "xbAw69KYar4t"
   },
   "outputs": [
    {
     "name": "stdout",
     "output_type": "stream",
     "text": [
      "This is indeed an Integer\n"
     ]
    }
   ],
   "source": [
    "# Correct Implimentation\n",
    "\n",
    "if (isinstance(x, list)):\n",
    "\n",
    "    print(\"This is indeed an Integer\")"
   ]
  },
  {
   "cell_type": "markdown",
   "metadata": {
    "id": "k5JEE7lLgcER"
   },
   "source": [
    "<h2 style = \"color: darkorange\">\n",
    "Boolean Variables in Conditionals\n",
    "</h2>\n",
    "\n",
    "<p>\n",
    "    Instead of using <code>if (statement == True)</code> or <code>if (statement == False)</code>, use <code>if (statement)</code> or <code>if (!statement)</code>\n",
    "</p>"
   ]
  },
  {
   "cell_type": "code",
   "execution_count": 15,
   "metadata": {
    "id": "GQXvCJiWgZ_X"
   },
   "outputs": [],
   "source": [
    "a = 10\n",
    "b = 9\n",
    "\n",
    "x = a > 9\n",
    "y = b > 11"
   ]
  },
  {
   "cell_type": "code",
   "execution_count": 16,
   "metadata": {
    "colab": {
     "base_uri": "https://localhost:8080/",
     "height": 435
    },
    "id": "Ph2jYpa3i9Ro",
    "outputId": "8ced713f-1a2d-40d2-acea-d42d5f2c96f8"
   },
   "outputs": [
    {
     "name": "stdout",
     "output_type": "stream",
     "text": [
      "This is correct\n",
      "This is incorrect\n"
     ]
    }
   ],
   "source": [
    "# Bad Implimentation\n",
    "\n",
    "if (x == True):\n",
    "\n",
    "    print(\"This is correct\")\n",
    "\n",
    "if (y == False):\n",
    "\n",
    "    print(\"This is incorrect\")\n",
    "\n",
    "# Note: Ignore the error here. It is an open issue with this library."
   ]
  },
  {
   "cell_type": "code",
   "execution_count": 17,
   "metadata": {
    "id": "brzHqrjCkU6_"
   },
   "outputs": [
    {
     "name": "stdout",
     "output_type": "stream",
     "text": [
      "This is correct\n",
      "This is incorrect\n"
     ]
    }
   ],
   "source": [
    "# Correct Implimentation\n",
    "\n",
    "if (x):\n",
    "\n",
    "    print(\"This is correct\")\n",
    "\n",
    "if (not y):\n",
    "\n",
    "    print(\"This is incorrect\")"
   ]
  },
  {
   "cell_type": "code",
   "execution_count": 18,
   "metadata": {},
   "outputs": [
    {
     "name": "stdout",
     "output_type": "stream",
     "text": [
      "This is correct\n",
      "This is incorrect\n"
     ]
    }
   ],
   "source": [
    "# Also Correct Implimentation\n",
    "\n",
    "if (x is True):\n",
    "\n",
    "    print(\"This is correct\")\n",
    "\n",
    "if (y is False):\n",
    "\n",
    "    print(\"This is incorrect\")"
   ]
  },
  {
   "cell_type": "markdown",
   "metadata": {
    "id": "H-r15_umCyDs"
   },
   "source": [
    "<h2 style = \"color: darkorange\">Stray Semi Colons in Python Code</h2>\n",
    "\n",
    "Since some of you may have taken CSE13/ CSE 130 recently, you may unintentionally input semi colons at the end of the line (atleast I have). Remove any semi colons at the end of the lines in your code to abide by PEP8\n"
   ]
  },
  {
   "cell_type": "code",
   "execution_count": 19,
   "metadata": {
    "colab": {
     "base_uri": "https://localhost:8080/"
    },
    "id": "9KPlV55NDOew",
    "outputId": "df04a2dd-bfb3-4c73-8db5-0ca78e718158"
   },
   "outputs": [],
   "source": [
    "# Bad Example\n",
    "\n",
    "x = 9;"
   ]
  },
  {
   "cell_type": "code",
   "execution_count": 20,
   "metadata": {
    "id": "arSSr9FoDXsd"
   },
   "outputs": [],
   "source": [
    "# Good Example\n",
    "\n",
    "x = 9"
   ]
  },
  {
   "cell_type": "markdown",
   "metadata": {},
   "source": [
    "<h2 style=\"color: darkorange\">\n",
    "Extra Spacing/ Lines\n",
    "</h2>\n",
    "\n",
    "PEP 8 specifies that there should be no extra spaces at the end of a line or no more than 2 blank lines. Please remove these extra spaces."
   ]
  },
  {
   "cell_type": "markdown",
   "metadata": {},
   "source": [
    "<h3>\n",
    "Extra Spaces\n",
    "</h3>"
   ]
  },
  {
   "cell_type": "code",
   "execution_count": 21,
   "metadata": {},
   "outputs": [],
   "source": [
    "# Bad Example\n",
    "# Note: Select the line below to see the extra spaces.\n",
    "\n",
    "x = 9    "
   ]
  },
  {
   "cell_type": "code",
   "execution_count": 22,
   "metadata": {},
   "outputs": [],
   "source": [
    "# Correct Example\n",
    "\n",
    "x = 9"
   ]
  },
  {
   "cell_type": "markdown",
   "metadata": {},
   "source": [
    "<h3>\n",
    "Extra Lines\n",
    "</h3>"
   ]
  },
  {
   "cell_type": "code",
   "execution_count": 23,
   "metadata": {},
   "outputs": [
    {
     "name": "stdout",
     "output_type": "stream",
     "text": [
      "True\n"
     ]
    }
   ],
   "source": [
    "# Bad Example\n",
    "\n",
    "if (10 > 9):\n",
    "\n",
    "\n",
    "    print(True)"
   ]
  },
  {
   "cell_type": "code",
   "execution_count": 24,
   "metadata": {},
   "outputs": [
    {
     "name": "stdout",
     "output_type": "stream",
     "text": [
      "True\n"
     ]
    }
   ],
   "source": [
    "# Correct Example\n",
    "\n",
    "if (10 > 9):\n",
    "\n",
    "    print(True)"
   ]
  }
 ],
 "metadata": {
  "colab": {
   "provenance": []
  },
  "kernelspec": {
   "display_name": "Python 3 (ipykernel)",
   "language": "python",
   "name": "python3"
  },
  "language_info": {
   "codemirror_mode": {
    "name": "ipython",
    "version": 3
   },
   "file_extension": ".py",
   "mimetype": "text/x-python",
   "name": "python",
   "nbconvert_exporter": "python",
   "pygments_lexer": "ipython3",
   "version": "3.11.2"
  }
 },
 "nbformat": 4,
 "nbformat_minor": 4
}
