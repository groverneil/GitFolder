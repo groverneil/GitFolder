{
 "cells": [
  {
   "cell_type": "markdown",
   "metadata": {
    "id": "yTIf8wD5Gs10"
   },
   "source": [
    "<h1 style=\"color: lightblue; align: center\">CSE40 Style Demo</h1>"
   ]
  },
  {
   "cell_type": "markdown",
   "metadata": {},
   "source": [
    "<p>This file goes over some basic examples of bad and good syntax which will help you understand how to deal with PEP8 style issues.<p>\n",
    "\n",
    "<p>Each Error type has it's own section and has two examples:<p>\n",
    "<span style=\"color: #CC0000\">Bad Example</span>\n",
    "<span>contains code that will trigger the style checker</span>\n",
    "<br>\n",
    "<span style=\"color: #00CC00\">Correct Example</span>\n",
    "<span>contains code that will pass the style checker</span>"
   ]
  },
  {
   "cell_type": "code",
   "execution_count": 1,
   "metadata": {
    "id": "FIUiR5ToXnE_"
   },
   "outputs": [],
   "source": [
    "import pandas"
   ]
  },
  {
   "cell_type": "markdown",
   "metadata": {
    "id": "j5qiDfGeUS3y"
   },
   "source": [
    "<h2 style = \"color: darkorange\">\n",
    "Line Length\n",
    "</h2>\n",
    "\n",
    "<p>\n",
    "PEP8 standards dictate that line length shoould not be more than 79 characters long. This is to avoid overcomplication of lines of code by encouraging the user to spread out the functionality of their program. This reduces the clutter in the code which makes it easier to read. \n",
    "\n",
    "For the HO assignments, we deduct points if the line is more than 100 characters long, which is somewhat more lenient than the default 79 characters.\n",
    "</p>"
   ]
  },
  {
   "cell_type": "markdown",
   "metadata": {
    "id": "RSnTJt1BXR28"
   },
   "source": [
    "<h3>\n",
    "Base Python Example\n",
    "</h3>"
   ]
  },
  {
   "cell_type": "markdown",
   "metadata": {},
   "source": [
    "The code below is simple, but occupies too much space which decreases its readability. This code is also above 100 characters in length and will fail the style checker."
   ]
  },
  {
   "cell_type": "code",
   "execution_count": 2,
   "metadata": {
    "colab": {
     "base_uri": "https://localhost:8080/"
    },
    "id": "uDjvQy1EWBqB",
    "outputId": "6db9c461-cb04-4bea-97f9-1e30fdff7228"
   },
   "outputs": [
    {
     "name": "stdout",
     "output_type": "stream",
     "text": [
      "15138\n"
     ]
    }
   ],
   "source": [
    "# Bad Example\n",
    "\n",
    "a = sum([1, 2, 3, 4, 5, 6, 7, 8, 9, 9, 10, 11, 12])**2 + sum([1, 2, 3, 4, 5, 6, 7, 8, 9, 9, 10, 11, 12])**2\n",
    "\n",
    "print(a)"
   ]
  },
  {
   "cell_type": "markdown",
   "metadata": {},
   "source": [
    "The example below takes the code from the previous example and greatly reduces clutter by taking the two sums and reducing that to a multiplication operation. This code is now below 100 characters long and will now pass the style checker."
   ]
  },
  {
   "cell_type": "code",
   "execution_count": 3,
   "metadata": {
    "id": "OkKSaJP1W77X"
   },
   "outputs": [
    {
     "name": "stdout",
     "output_type": "stream",
     "text": [
      "15138\n"
     ]
    }
   ],
   "source": [
    "# Correct Example\n",
    "\n",
    "a = sum([1, 2, 3, 4, 5, 6, 7, 8, 9, 9, 10, 11, 12])**2\n",
    "a = 2 * a\n",
    "\n",
    "print(a)"
   ]
  },
  {
   "cell_type": "markdown",
   "metadata": {
    "id": "pjS7tBqSXbp0"
   },
   "source": [
    "<h3>DataFrame Example</h3>"
   ]
  },
  {
   "cell_type": "markdown",
   "metadata": {},
   "source": [
    "In this class, you would be dealing with a lot of operations with dataframes such as filtering for feature selection, data cleaning and feature creation.\n",
    "\n",
    "Consider the example dataframe below that just consists of boolean columns:"
   ]
  },
  {
   "cell_type": "code",
   "execution_count": 4,
   "metadata": {
    "id": "dG27MCBGXta5"
   },
   "outputs": [
    {
     "name": "stdout",
     "output_type": "stream",
     "text": [
      "       A      B      C      D      E\n",
      "0   True   True   True   True  False\n",
      "1   True   True  False   True   True\n",
      "2   True   True   True   True   True\n",
      "3  False  False  False  False  False\n"
     ]
    }
   ],
   "source": [
    "frame = pandas.DataFrame({\n",
    "    \"A\": [True, True, True, False],\n",
    "    \"B\": [True, True, True, False],\n",
    "    \"C\": [True, False, True, False],\n",
    "    \"D\": [True, True, True, False],\n",
    "    \"E\": [False, True, True, False],\n",
    "})\n",
    "\n",
    "print(frame)"
   ]
  },
  {
   "cell_type": "markdown",
   "metadata": {},
   "source": [
    "Lets say that the goal for this part of the demo is to find all of the rows that meet the following condition:\n",
    "\n",
    "$ A \\wedge B \\wedge C \\wedge D \\wedge E $\n",
    "\n",
    "This would involed using the dataframe operations that we learned/ are going to learn in HO 1.\n",
    "\n",
    "Consider the initial proposed strategy below:"
   ]
  },
  {
   "cell_type": "code",
   "execution_count": 5,
   "metadata": {
    "colab": {
     "base_uri": "https://localhost:8080/"
    },
    "id": "GTiy2eygYJDB",
    "outputId": "ee46b035-bef5-4f5f-c8b2-4d7397afa2b6"
   },
   "outputs": [
    {
     "data": {
      "text/plain": [
       "1"
      ]
     },
     "execution_count": 5,
     "metadata": {},
     "output_type": "execute_result"
    }
   ],
   "source": [
    "# Bad Example\n",
    "\n",
    "len(frame[(frame[\"A\"]) & (frame[\"B\"]) & (frame[\"C\"]) & (frame[\"D\"]) & (frame[\"E\"])])"
   ]
  },
  {
   "cell_type": "markdown",
   "metadata": {},
   "source": [
    "The problem is that despite getting the right response, we have exceeded the length of what would be considered an exceptable amount of code per line. In simple words, too long!."
   ]
  },
  {
   "cell_type": "markdown",
   "metadata": {
    "id": "j3wr2nWyZSvh"
   },
   "source": [
    "Solution: Make temp variables in your calculation.\n",
    "\n",
    "This strategy will come in very handy especially when it comes to HO assignments past HO2."
   ]
  },
  {
   "cell_type": "code",
   "execution_count": 6,
   "metadata": {
    "colab": {
     "base_uri": "https://localhost:8080/"
    },
    "id": "Yl3xe-u8YpvO",
    "outputId": "8d137754-3f04-4973-a89f-bcbf51ae00fe"
   },
   "outputs": [
    {
     "data": {
      "text/plain": [
       "1"
      ]
     },
     "execution_count": 6,
     "metadata": {},
     "output_type": "execute_result"
    }
   ],
   "source": [
    "# Correct Example\n",
    "\n",
    "subframe = frame[(frame[\"A\"]) & (frame[\"B\"])]\n",
    "subframe = subframe[(subframe[\"C\"]) & (subframe[\"D\"]) & (subframe[\"E\"])]\n",
    "len(subframe)"
   ]
  },
  {
   "cell_type": "markdown",
   "metadata": {
    "id": "GO103kx6S-JO"
   },
   "source": [
    "<h2 style = \"color: darkorange\">\n",
    "Incorrect Spacing Between Operators\n",
    "</h2>\n",
    "\n",
    "<p>PEP 8 requires spacing between operators. This makes the code look a lot cleaner and makes complex math/ code operation easier to understand. </p> \n",
    "\n",
    "<p>Look at the following examples of how to declare variables in a way the complies with standards</p>"
   ]
  },
  {
   "cell_type": "markdown",
   "metadata": {},
   "source": [
    "<h3>\n",
    "Variable Declaration\n",
    "</h3>"
   ]
  },
  {
   "cell_type": "markdown",
   "metadata": {},
   "source": [
    "Observe how adding just two spaces makes this simple expression a lot easier to read:"
   ]
  },
  {
   "cell_type": "code",
   "execution_count": 7,
   "metadata": {
    "colab": {
     "base_uri": "https://localhost:8080/"
    },
    "id": "yB7z_uIXG3_q",
    "outputId": "37da567f-68b3-4a2f-e153-b265a1d719a3"
   },
   "outputs": [],
   "source": [
    "# Bad Implimentation\n",
    "\n",
    "a=1"
   ]
  },
  {
   "cell_type": "code",
   "execution_count": 8,
   "metadata": {
    "id": "cm7XZCLWHZqU"
   },
   "outputs": [],
   "source": [
    "# Correct Implimentation\n",
    "\n",
    "a = 1"
   ]
  },
  {
   "cell_type": "markdown",
   "metadata": {},
   "source": [
    "<h3>\n",
    "Arithmetic Example\n",
    "</h3>"
   ]
  },
  {
   "cell_type": "code",
   "execution_count": 9,
   "metadata": {
    "colab": {
     "base_uri": "https://localhost:8080/"
    },
    "id": "tbYi_iboRq5l",
    "outputId": "35065a1f-4ba1-42ec-e9ed-29d6dbbe8f58"
   },
   "outputs": [
    {
     "name": "stdout",
     "output_type": "stream",
     "text": [
      "17\n"
     ]
    }
   ],
   "source": [
    "# Bad Implimentation\n",
    "\n",
    "x =1+2*8\n",
    "\n",
    "print(x)"
   ]
  },
  {
   "cell_type": "code",
   "execution_count": 10,
   "metadata": {
    "id": "Q5iOgy4dZeIi"
   },
   "outputs": [
    {
     "name": "stdout",
     "output_type": "stream",
     "text": [
      "17\n"
     ]
    }
   ],
   "source": [
    "# Correct Implimentation\n",
    "\n",
    "x = 1 + 2 * 8\n",
    "\n",
    "print(x)"
   ]
  },
  {
   "cell_type": "markdown",
   "metadata": {},
   "source": [
    "<h3>\n",
    "List Definition\n",
    "</h3>"
   ]
  },
  {
   "cell_type": "markdown",
   "metadata": {},
   "source": [
    "This is an example that you would be coming across a lot in class and often results in a lot of style errors (due to the many elements in the list)"
   ]
  },
  {
   "cell_type": "code",
   "execution_count": 11,
   "metadata": {},
   "outputs": [],
   "source": [
    "# Bad Example\n",
    "\n",
    "x = [1,2,3]"
   ]
  },
  {
   "cell_type": "markdown",
   "metadata": {},
   "source": [
    "A simple comma space to seperate items in a collection (list, tuple, dict ...) would suffice to pass the style checker."
   ]
  },
  {
   "cell_type": "code",
   "execution_count": 12,
   "metadata": {},
   "outputs": [],
   "source": [
    "# Correct Example\n",
    "\n",
    "x = [1, 2, 3]"
   ]
  },
  {
   "cell_type": "markdown",
   "metadata": {
    "id": "8_9a4zsJZrv_"
   },
   "source": [
    "<h2 style = \"color: darkorange\">Using <code>type()</code> inside Conditionals</h2>\n",
    "\n",
    "<p>This is a redundant implimentation that can be easily replaced with the use of the <code>isinstance()</code> function</p>"
   ]
  },
  {
   "cell_type": "code",
   "execution_count": 13,
   "metadata": {
    "colab": {
     "base_uri": "https://localhost:8080/"
    },
    "id": "zdw1eEpzaMZr",
    "outputId": "74a7de29-cc90-4015-abb2-2bd5f8cb42ba"
   },
   "outputs": [],
   "source": [
    "# Bad Implimentation\n",
    "\n",
    "if (type(x) == list):\n",
    "\n",
    "    print(\"This is indeed an List\")"
   ]
  },
  {
   "cell_type": "markdown",
   "metadata": {},
   "source": [
    "The isinstance is preferred since the implimentation is a lot cleaner as it avoids the == checking which is heavily discouraged by PEP8. This will also be discussed in the next section."
   ]
  },
  {
   "cell_type": "code",
   "execution_count": 14,
   "metadata": {
    "id": "xbAw69KYar4t"
   },
   "outputs": [
    {
     "name": "stdout",
     "output_type": "stream",
     "text": [
      "This is indeed an Integer\n"
     ]
    }
   ],
   "source": [
    "# Correct Implimentation\n",
    "\n",
    "if (isinstance(x, list)):\n",
    "\n",
    "    print(\"This is indeed an List\")"
   ]
  },
  {
   "cell_type": "markdown",
   "metadata": {
    "id": "k5JEE7lLgcER"
   },
   "source": [
    "<h2 style = \"color: darkorange\">\n",
    "Boolean Variables in Conditionals\n",
    "</h2>\n",
    "\n",
    "<p>\n",
    "    Instead of using <code>if (statement == True)</code> or <code>if (statement == False)</code>, use <code>if (statement)</code> or <code>if (!statement)</code>\n",
    "</p>\n",
    "\n",
    "<p>Since the statement is already a boolean, it can directly subsitute for true or false in the conditional statements (if, for, while ...). Example:</p>\n",
    "\n",
    "```\n",
    "if(true):\n",
    "    print(\"This is valid\")\n",
    "\n",
    "while(true):\n",
    "    print(\"Infinite loop\")\n",
    "```"
   ]
  },
  {
   "cell_type": "code",
   "execution_count": 15,
   "metadata": {
    "id": "GQXvCJiWgZ_X"
   },
   "outputs": [],
   "source": [
    "a = 10\n",
    "b = 9\n",
    "\n",
    "# Example numbers\n",
    "\n",
    "x = a > 9\n",
    "y = b > 11\n",
    "\n",
    "# Note that x, y are booleans True and False respectively."
   ]
  },
  {
   "cell_type": "markdown",
   "metadata": {},
   "source": [
    "Below is the redundant example that uses == for the boolean statements x and y. Even though this is semantically correct, this code does not pass the style checker."
   ]
  },
  {
   "cell_type": "code",
   "execution_count": 16,
   "metadata": {
    "colab": {
     "base_uri": "https://localhost:8080/",
     "height": 435
    },
    "id": "Ph2jYpa3i9Ro",
    "outputId": "8ced713f-1a2d-40d2-acea-d42d5f2c96f8"
   },
   "outputs": [
    {
     "name": "stdout",
     "output_type": "stream",
     "text": [
      "This is correct\n",
      "This is incorrect\n"
     ]
    }
   ],
   "source": [
    "# Bad Implimentation\n",
    "\n",
    "if (x == True):\n",
    "\n",
    "    print(\"This is correct\")\n",
    "\n",
    "if (y == False):\n",
    "\n",
    "    print(\"This is incorrect\")"
   ]
  },
  {
   "cell_type": "markdown",
   "metadata": {},
   "source": [
    "Using the fact that x and y are booleans, we can use them without using == to achieve the same result as the code above. This code passes the style checker."
   ]
  },
  {
   "cell_type": "code",
   "execution_count": 17,
   "metadata": {
    "id": "brzHqrjCkU6_"
   },
   "outputs": [
    {
     "name": "stdout",
     "output_type": "stream",
     "text": [
      "This is correct\n",
      "This is incorrect\n"
     ]
    }
   ],
   "source": [
    "# Correct Implimentation\n",
    "\n",
    "if (x):\n",
    "\n",
    "    print(\"This is correct\")\n",
    "\n",
    "if (not y):\n",
    "\n",
    "    print(\"This is incorrect\")"
   ]
  },
  {
   "cell_type": "markdown",
   "metadata": {},
   "source": [
    "In some cases like the one below, the `is` statement in python will often also work equivalently.\n",
    "\n",
    "Note: This statement is a bit iffy when it comes to use in dataframes. In those cases use the specialized operations for pandas instead."
   ]
  },
  {
   "cell_type": "code",
   "execution_count": 18,
   "metadata": {},
   "outputs": [
    {
     "name": "stdout",
     "output_type": "stream",
     "text": [
      "This is correct\n",
      "This is incorrect\n"
     ]
    }
   ],
   "source": [
    "# Also Correct Implimentation\n",
    "\n",
    "if (x is True):\n",
    "\n",
    "    print(\"This is correct\")\n",
    "\n",
    "if (y is False):\n",
    "\n",
    "    print(\"This is incorrect\")"
   ]
  },
  {
   "cell_type": "markdown",
   "metadata": {
    "id": "H-r15_umCyDs"
   },
   "source": [
    "<h2 style = \"color: darkorange\">Stray Semi Colons in Python Code</h2>\n",
    "\n",
    "Since some of you may have taken CSE13/ CSE 130 recently, you may unintentionally input semi colons at the end of the line (atleast I have). Remove any semi colons at the end of the lines in your code to abide by PEP8\n",
    "\n",
    "Python does not require the ; unlike languages like C, JavaScript and Java because it is built well to understand white space. You can use the semicolon in a python file and achieve the same result, but it is highly redundant and will result in a style checker violation."
   ]
  },
  {
   "cell_type": "code",
   "execution_count": 19,
   "metadata": {
    "colab": {
     "base_uri": "https://localhost:8080/"
    },
    "id": "9KPlV55NDOew",
    "outputId": "df04a2dd-bfb3-4c73-8db5-0ca78e718158"
   },
   "outputs": [],
   "source": [
    "# Bad Example\n",
    "\n",
    "x = 9;"
   ]
  },
  {
   "cell_type": "code",
   "execution_count": 20,
   "metadata": {
    "id": "arSSr9FoDXsd"
   },
   "outputs": [],
   "source": [
    "# Good Example\n",
    "\n",
    "x = 9"
   ]
  },
  {
   "cell_type": "markdown",
   "metadata": {},
   "source": [
    "<h2 style=\"color: darkorange\">\n",
    "Extra Spacing/ Lines\n",
    "</h2>\n",
    "\n",
    "PEP 8 specifies that there should be no extra spaces at the end of a line or no more than 2 blank lines. Please remove these extra spaces. This unnecessarily bloats the file size and in some cases can mess up with the format for the file.\n",
    "\n",
    "Such practices become much more important when you would be working in a team project where you want to make sure that the file format is consistent with the pre-existing style."
   ]
  },
  {
   "cell_type": "markdown",
   "metadata": {},
   "source": [
    "<h3>\n",
    "Extra Spaces\n",
    "</h3>"
   ]
  },
  {
   "cell_type": "code",
   "execution_count": 21,
   "metadata": {},
   "outputs": [],
   "source": [
    "# Bad Example\n",
    "# Note: Select the line below to see the extra spaces.\n",
    "\n",
    "x = 9    "
   ]
  },
  {
   "cell_type": "code",
   "execution_count": 22,
   "metadata": {},
   "outputs": [],
   "source": [
    "# Correct Example\n",
    "\n",
    "x = 9"
   ]
  },
  {
   "cell_type": "markdown",
   "metadata": {},
   "source": [
    "<h3>\n",
    "Extra Lines\n",
    "</h3>"
   ]
  },
  {
   "cell_type": "markdown",
   "metadata": {},
   "source": [
    "There should not be more than a single empty like in your code. Doing so results in a style checker violation."
   ]
  },
  {
   "cell_type": "code",
   "execution_count": 23,
   "metadata": {},
   "outputs": [
    {
     "name": "stdout",
     "output_type": "stream",
     "text": [
      "True\n"
     ]
    }
   ],
   "source": [
    "# Bad Example\n",
    "\n",
    "if (10 > 9):\n",
    "\n",
    "\n",
    "    print(True)"
   ]
  },
  {
   "cell_type": "code",
   "execution_count": 24,
   "metadata": {},
   "outputs": [
    {
     "name": "stdout",
     "output_type": "stream",
     "text": [
      "True\n"
     ]
    }
   ],
   "source": [
    "# Correct Example\n",
    "\n",
    "if (10 > 9):\n",
    "\n",
    "    print(True)"
   ]
  },
  {
   "cell_type": "markdown",
   "metadata": {},
   "source": [
    "This is the end of the document. Happy Styling"
   ]
  }
 ],
 "metadata": {
  "colab": {
   "provenance": []
  },
  "kernelspec": {
   "display_name": "Python 3 (ipykernel)",
   "language": "python",
   "name": "python3"
  },
  "language_info": {
   "codemirror_mode": {
    "name": "ipython",
    "version": 3
   },
   "file_extension": ".py",
   "mimetype": "text/x-python",
   "name": "python",
   "nbconvert_exporter": "python",
   "pygments_lexer": "ipython3",
   "version": "3.11.2"
  }
 },
 "nbformat": 4,
 "nbformat_minor": 4
}
