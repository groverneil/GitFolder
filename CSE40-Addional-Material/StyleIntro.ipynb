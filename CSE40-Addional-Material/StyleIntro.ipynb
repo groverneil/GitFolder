{
 "cells": [
  {
   "cell_type": "markdown",
   "metadata": {
    "id": "yTIf8wD5Gs10"
   },
   "source": [
    "<h1 style=\"color: lightblue; align: center\">CSE40 Style Demo</h1>"
   ]
  },
  {
   "cell_type": "markdown",
   "metadata": {
    "id": "aTZg47x3TgKy"
   },
   "source": [
    "<h2 style = \"color: darkorange\">\n",
    "Importing the Libraries that Check for PEP8 styling\n",
    "</h2>\n",
    "<p>\n",
    "    <b>Note: The autograder library for CSE-40 uses flake8</b>\n",
    "</p>"
   ]
  },
  {
   "cell_type": "code",
   "execution_count": 33,
   "metadata": {
    "id": "jAHrTqUAKU9f"
   },
   "outputs": [],
   "source": [
    "!pip install pycodestyle_magic\n",
    "%load_ext pycodestyle_magic\n",
    "%pycodestyle_on"
   ]
  },
  {
   "cell_type": "markdown",
   "metadata": {
    "id": "bDvjdbABXiRG"
   },
   "source": [
    "<h2 style = \"color: darkorange\">\n",
    "Importing Other Libraries\n",
    "</h2>"
   ]
  },
  {
   "cell_type": "code",
   "execution_count": 19,
   "metadata": {
    "id": "FIUiR5ToXnE_"
   },
   "outputs": [],
   "source": [
    "import pandas"
   ]
  },
  {
   "cell_type": "markdown",
   "metadata": {
    "id": "j5qiDfGeUS3y"
   },
   "source": [
    "<h2 style = \"color: darkorange\">\n",
    "Line Length\n",
    "</h2>\n",
    "\n",
    "<p>\n",
    "PEP8 standards dictate that line length shoould not be more than 79 characters long. For the HO assignments, we deduct points if the line is more than 100 characters long\n",
    "</p>"
   ]
  },
  {
   "cell_type": "markdown",
   "metadata": {
    "id": "RSnTJt1BXR28"
   },
   "source": [
    "<h3>\n",
    "Base Python Example\n",
    "</h3>"
   ]
  },
  {
   "cell_type": "code",
   "execution_count": 3,
   "metadata": {
    "colab": {
     "base_uri": "https://localhost:8080/"
    },
    "id": "uDjvQy1EWBqB",
    "outputId": "6db9c461-cb04-4bea-97f9-1e30fdff7228"
   },
   "outputs": [
    {
     "name": "stderr",
     "output_type": "stream",
     "text": [
      "3:80: E501 line too long (107 > 79 characters)\n"
     ]
    }
   ],
   "source": [
    "# Bad Example\n",
    "\n",
    "a = sum([1, 2, 3, 4, 5, 6, 7, 8, 9, 9, 10, 11, 12])**2 + sum([1, 2, 3, 4, 5, 6, 7, 8, 9, 9, 10, 11, 12])**2"
   ]
  },
  {
   "cell_type": "code",
   "execution_count": 4,
   "metadata": {
    "id": "OkKSaJP1W77X"
   },
   "outputs": [],
   "source": [
    "# Correct Example\n",
    "\n",
    "a = sum([1, 2, 3, 4, 5, 6, 7, 8, 9, 9, 10, 11, 12])**2\n",
    "a = 2 * a"
   ]
  },
  {
   "cell_type": "markdown",
   "metadata": {
    "id": "pjS7tBqSXbp0"
   },
   "source": [
    "<h3>DataFrame Example</h3>"
   ]
  },
  {
   "cell_type": "code",
   "execution_count": 20,
   "metadata": {
    "id": "dG27MCBGXta5"
   },
   "outputs": [],
   "source": [
    "frame = pandas.DataFrame({\n",
    "    \"A\": [True, True, True, False],\n",
    "    \"B\": [True, True, True, False],\n",
    "    \"C\": [True, False, True, False],\n",
    "    \"D\": [True, True, True, False],\n",
    "    \"E\": [False, True, True, False],\n",
    "})"
   ]
  },
  {
   "cell_type": "code",
   "execution_count": 21,
   "metadata": {
    "colab": {
     "base_uri": "https://localhost:8080/"
    },
    "id": "GTiy2eygYJDB",
    "outputId": "ee46b035-bef5-4f5f-c8b2-4d7397afa2b6"
   },
   "outputs": [
    {
     "data": {
      "text/plain": [
       "1"
      ]
     },
     "execution_count": 21,
     "metadata": {},
     "output_type": "execute_result"
    },
    {
     "name": "stderr",
     "output_type": "stream",
     "text": [
      "3:80: E501 line too long (84 > 79 characters)\n"
     ]
    }
   ],
   "source": [
    "# Bad Example\n",
    "\n",
    "len(frame[(frame[\"A\"]) & (frame[\"B\"]) & (frame[\"C\"]) & (frame[\"D\"]) & (frame[\"E\"])])"
   ]
  },
  {
   "cell_type": "markdown",
   "metadata": {
    "id": "j3wr2nWyZSvh"
   },
   "source": [
    "Solution: Make temp variables in your calculation."
   ]
  },
  {
   "cell_type": "code",
   "execution_count": 31,
   "metadata": {
    "colab": {
     "base_uri": "https://localhost:8080/"
    },
    "id": "Yl3xe-u8YpvO",
    "outputId": "8d137754-3f04-4973-a89f-bcbf51ae00fe"
   },
   "outputs": [
    {
     "data": {
      "text/plain": [
       "1"
      ]
     },
     "execution_count": 31,
     "metadata": {},
     "output_type": "execute_result"
    }
   ],
   "source": [
    "# Correct Example\n",
    "\n",
    "subframe = frame[(frame[\"A\"]) & (frame[\"B\"])]\n",
    "subframe = subframe[(subframe[\"C\"]) & (subframe[\"D\"]) & (subframe[\"E\"])]\n",
    "len(subframe)"
   ]
  },
  {
   "cell_type": "markdown",
   "metadata": {
    "id": "GO103kx6S-JO"
   },
   "source": [
    "<h2 style = \"color: darkorange\">\n",
    "Incorrect Spacing Between Operators\n",
    "</h2>\n",
    "\n",
    "<p>PEP 8 requires spacing between operators. Look at the following examples of how to declare variables in a way the complies with standards</p>"
   ]
  },
  {
   "cell_type": "code",
   "execution_count": 32,
   "metadata": {
    "colab": {
     "base_uri": "https://localhost:8080/"
    },
    "id": "yB7z_uIXG3_q",
    "outputId": "37da567f-68b3-4a2f-e153-b265a1d719a3"
   },
   "outputs": [
    {
     "name": "stderr",
     "output_type": "stream",
     "text": [
      "3:2: E225 missing whitespace around operator\n"
     ]
    }
   ],
   "source": [
    "# Bad Implimentation\n",
    "\n",
    "a=1"
   ]
  },
  {
   "cell_type": "code",
   "execution_count": 24,
   "metadata": {
    "id": "cm7XZCLWHZqU"
   },
   "outputs": [],
   "source": [
    "# Correct Implimentation\n",
    "\n",
    "a = 1"
   ]
  },
  {
   "cell_type": "code",
   "execution_count": 25,
   "metadata": {
    "colab": {
     "base_uri": "https://localhost:8080/"
    },
    "id": "tbYi_iboRq5l",
    "outputId": "35065a1f-4ba1-42ec-e9ed-29d6dbbe8f58"
   },
   "outputs": [
    {
     "name": "stderr",
     "output_type": "stream",
     "text": [
      "3:4: E225 missing whitespace around operator\n"
     ]
    }
   ],
   "source": [
    "# Bad Implimentation\n",
    "\n",
    "x =1+2"
   ]
  },
  {
   "cell_type": "code",
   "execution_count": 11,
   "metadata": {
    "id": "Q5iOgy4dZeIi"
   },
   "outputs": [],
   "source": [
    "# Correct Implimentation\n",
    "\n",
    "x = 1 + 2"
   ]
  },
  {
   "cell_type": "code",
   "execution_count": 12,
   "metadata": {},
   "outputs": [
    {
     "name": "stderr",
     "output_type": "stream",
     "text": [
      "3:7: E231 missing whitespace after ','\n",
      "3:9: E231 missing whitespace after ','\n"
     ]
    }
   ],
   "source": [
    "# Bad Example\n",
    "\n",
    "x = [1,2,3]"
   ]
  },
  {
   "cell_type": "code",
   "execution_count": 13,
   "metadata": {},
   "outputs": [],
   "source": [
    "# Correct Example\n",
    "\n",
    "x = [1, 2, 3]"
   ]
  },
  {
   "cell_type": "markdown",
   "metadata": {
    "id": "8_9a4zsJZrv_"
   },
   "source": [
    "<h2 style = \"color: darkorange\">Using <code>type()</code> inside Conditionals</h2>\n",
    "\n",
    "<p>This is a redundant implimentation that can be easily replaced with the use of the <code>isinstance()</code> function</p>"
   ]
  },
  {
   "cell_type": "code",
   "execution_count": 14,
   "metadata": {
    "colab": {
     "base_uri": "https://localhost:8080/"
    },
    "id": "zdw1eEpzaMZr",
    "outputId": "74a7de29-cc90-4015-abb2-2bd5f8cb42ba"
   },
   "outputs": [
    {
     "name": "stderr",
     "output_type": "stream",
     "text": [
      "3:5: E721 do not compare types, for exact checks use `is` / `is not`, for instance checks use `isinstance()`\n"
     ]
    }
   ],
   "source": [
    "# Bad Implimentation\n",
    "\n",
    "if (type(x) == int):\n",
    "\n",
    "    print(\"This is indeed an Integer\")"
   ]
  },
  {
   "cell_type": "code",
   "execution_count": 15,
   "metadata": {
    "id": "xbAw69KYar4t"
   },
   "outputs": [
    {
     "name": "stdout",
     "output_type": "stream",
     "text": [
      "This is indeed an Integer\n"
     ]
    }
   ],
   "source": [
    "# Correct Implimentation\n",
    "\n",
    "if (isinstance(x, list)):\n",
    "\n",
    "    print(\"This is indeed an Integer\")"
   ]
  },
  {
   "cell_type": "markdown",
   "metadata": {
    "id": "k5JEE7lLgcER"
   },
   "source": [
    "<h2 style = \"color: darkorange\">\n",
    "Boolean Variables in Conditionals\n",
    "</h2>\n",
    "\n",
    "<p>\n",
    "    Instead of using <code>if (statement == True)</code> or <code>if (statement == False)</code>, use <code>if (statement)</code> or <code>if (!statement)</code>\n",
    "</p>"
   ]
  },
  {
   "cell_type": "code",
   "execution_count": 16,
   "metadata": {
    "id": "GQXvCJiWgZ_X"
   },
   "outputs": [],
   "source": [
    "a = 10\n",
    "b = 9\n",
    "\n",
    "x = a > 9\n",
    "y = b > 11"
   ]
  },
  {
   "cell_type": "code",
   "execution_count": 17,
   "metadata": {
    "colab": {
     "base_uri": "https://localhost:8080/",
     "height": 435
    },
    "id": "Ph2jYpa3i9Ro",
    "outputId": "8ced713f-1a2d-40d2-acea-d42d5f2c96f8"
   },
   "outputs": [
    {
     "name": "stdout",
     "output_type": "stream",
     "text": [
      "This is correct\n",
      "This is incorrect\n"
     ]
    },
    {
     "ename": "ValueError",
     "evalue": "too many values to unpack (expected 3)",
     "output_type": "error",
     "traceback": [
      "\u001b[0;31m---------------------------------------------------------------------------\u001b[0m",
      "\u001b[0;31mValueError\u001b[0m                                Traceback (most recent call last)",
      "File \u001b[0;32m/usr/local/lib/python3.11/site-packages/pycodestyle_magic.py:46\u001b[0m, in \u001b[0;36mVarWatcher.auto_run_pycodestyle\u001b[0;34m(self, result)\u001b[0m\n\u001b[1;32m     45\u001b[0m \u001b[38;5;28;01mdef\u001b[39;00m \u001b[38;5;21mauto_run_pycodestyle\u001b[39m(\u001b[38;5;28mself\u001b[39m, result):\n\u001b[0;32m---> 46\u001b[0m     \u001b[43mpycodestyle\u001b[49m\u001b[43m(\u001b[49m\u001b[38;5;241;43m1\u001b[39;49m\u001b[43m,\u001b[49m\u001b[43m \u001b[49m\u001b[43mresult\u001b[49m\u001b[38;5;241;43m.\u001b[39;49m\u001b[43minfo\u001b[49m\u001b[38;5;241;43m.\u001b[39;49m\u001b[43mraw_cell\u001b[49m\u001b[43m,\u001b[49m\u001b[43m \u001b[49m\u001b[43mauto\u001b[49m\u001b[38;5;241;43m=\u001b[39;49m\u001b[38;5;28;43;01mTrue\u001b[39;49;00m\u001b[43m)\u001b[49m\n\u001b[1;32m     47\u001b[0m     \u001b[38;5;28;01mif\u001b[39;00m result\u001b[38;5;241m.\u001b[39merror_before_exec:\n\u001b[1;32m     48\u001b[0m         \u001b[38;5;28mprint\u001b[39m(\u001b[38;5;124m'\u001b[39m\u001b[38;5;124mError before execution: \u001b[39m\u001b[38;5;132;01m%s\u001b[39;00m\u001b[38;5;124m'\u001b[39m \u001b[38;5;241m%\u001b[39m result\u001b[38;5;241m.\u001b[39merror_before_exec)\n",
      "File \u001b[0;32m/usr/local/lib/python3.11/site-packages/pycodestyle_magic.py:175\u001b[0m, in \u001b[0;36mpycodestyle\u001b[0;34m(line, cell, auto)\u001b[0m\n\u001b[1;32m    170\u001b[0m stdout \u001b[38;5;241m=\u001b[39m sys\u001b[38;5;241m.\u001b[39mstdout\u001b[38;5;241m.\u001b[39mgetvalue()\u001b[38;5;241m.\u001b[39msplitlines()   \n\u001b[1;32m    172\u001b[0m \u001b[38;5;28;01mfor\u001b[39;00m line \u001b[38;5;129;01min\u001b[39;00m stdout:\n\u001b[1;32m    173\u001b[0m     \u001b[38;5;66;03m#logger.info(line)     \u001b[39;00m\n\u001b[1;32m    174\u001b[0m     \u001b[38;5;66;03m# on windows drive path also contains :\u001b[39;00m\n\u001b[0;32m--> 175\u001b[0m     line, col, error \u001b[38;5;241m=\u001b[39m line\u001b[38;5;241m.\u001b[39msplit(\u001b[38;5;124m'\u001b[39m\u001b[38;5;124m:\u001b[39m\u001b[38;5;124m'\u001b[39m)[\u001b[38;5;241m-\u001b[39m\u001b[38;5;241m4\u001b[39m:] \n\u001b[1;32m    176\u001b[0m     \u001b[38;5;66;03m# do not subtract 1 for line for %%pycodestyle, inc pre py3.6 string\u001b[39;00m\n\u001b[1;32m    177\u001b[0m     \u001b[38;5;28;01mif\u001b[39;00m auto:\n",
      "\u001b[0;31mValueError\u001b[0m: too many values to unpack (expected 3)"
     ]
    }
   ],
   "source": [
    "# Bad Implimentation\n",
    "\n",
    "if (x == True):\n",
    "\n",
    "    print(\"This is correct\")\n",
    "\n",
    "if (y == False):\n",
    "\n",
    "    print(\"This is incorrect\")\n",
    "\n",
    "# Note: Ignore the error here. It is an open issue with this library."
   ]
  },
  {
   "cell_type": "code",
   "execution_count": 61,
   "metadata": {
    "id": "brzHqrjCkU6_"
   },
   "outputs": [],
   "source": [
    "# Correct Implimentation\n",
    "\n",
    "if (x):\n",
    "\n",
    "    print(\"This is correct\")\n",
    "\n",
    "if (not y):\n",
    "\n",
    "    print(\"This is incorrect\")"
   ]
  },
  {
   "cell_type": "markdown",
   "metadata": {
    "id": "H-r15_umCyDs"
   },
   "source": [
    "<h2 style = \"color: darkorange\">Stray Semi Colons in Python Code</h2>\n",
    "\n",
    "Since some of you may have taken CSE13/ CSE 130 recently, you may unintentionally input semi colons at the end of the line (atleast I have). Remove any semi colons at the end of the lines in your code to abide by PEP8\n"
   ]
  },
  {
   "cell_type": "code",
   "execution_count": null,
   "metadata": {
    "colab": {
     "base_uri": "https://localhost:8080/"
    },
    "id": "9KPlV55NDOew",
    "outputId": "df04a2dd-bfb3-4c73-8db5-0ca78e718158"
   },
   "outputs": [],
   "source": [
    "# Bad Example\n",
    "\n",
    "x = 9;"
   ]
  },
  {
   "cell_type": "code",
   "execution_count": null,
   "metadata": {
    "id": "arSSr9FoDXsd"
   },
   "outputs": [],
   "source": [
    "# Good Example\n",
    "\n",
    "x = 9"
   ]
  },
  {
   "cell_type": "markdown",
   "metadata": {},
   "source": [
    "<h2 style=\"color: darkorange\">\n",
    "Extra Spacing/ Lines\n",
    "</h2>\n",
    "\n",
    "PEP 8 specifies that there should be no extra spaces at the end of a line or no more than 2 blank lines. Please remove these extra spaces."
   ]
  },
  {
   "cell_type": "markdown",
   "metadata": {},
   "source": [
    "<h3>\n",
    "Extra Spaces\n",
    "</h3>"
   ]
  },
  {
   "cell_type": "code",
   "execution_count": 26,
   "metadata": {},
   "outputs": [
    {
     "name": "stderr",
     "output_type": "stream",
     "text": [
      "3:6: W291 trailing whitespace\n"
     ]
    }
   ],
   "source": [
    "# Bad Example\n",
    "# Note: Select the line below to see the extra spaces.\n",
    "\n",
    "x = 9    "
   ]
  },
  {
   "cell_type": "code",
   "execution_count": 27,
   "metadata": {},
   "outputs": [],
   "source": [
    "# Correct Example\n",
    "\n",
    "x = 9"
   ]
  },
  {
   "cell_type": "markdown",
   "metadata": {},
   "source": [
    "<h3>\n",
    "Extra Lines\n",
    "</h3>"
   ]
  },
  {
   "cell_type": "code",
   "execution_count": 29,
   "metadata": {},
   "outputs": [
    {
     "name": "stderr",
     "output_type": "stream",
     "text": [
      "4:5: E303 too many blank lines (2)\n"
     ]
    }
   ],
   "source": [
    "# Bad Example\n",
    "\n",
    "if (10 > 9):\n",
    "\n",
    "\n",
    "    print(True)"
   ]
  },
  {
   "cell_type": "code",
   "execution_count": 30,
   "metadata": {},
   "outputs": [],
   "source": [
    "# Correct Example\n",
    "\n",
    "if (10 > 9):\n",
    "\n",
    "    print(True)"
   ]
  }
 ],
 "metadata": {
  "colab": {
   "provenance": []
  },
  "kernelspec": {
   "display_name": "Python 3 (ipykernel)",
   "language": "python",
   "name": "python3"
  },
  "language_info": {
   "codemirror_mode": {
    "name": "ipython",
    "version": 3
   },
   "file_extension": ".py",
   "mimetype": "text/x-python",
   "name": "python",
   "nbconvert_exporter": "python",
   "pygments_lexer": "ipython3",
   "version": "3.11.7"
  }
 },
 "nbformat": 4,
 "nbformat_minor": 4
}
